{
  "nbformat": 4,
  "nbformat_minor": 0,
  "metadata": {
    "colab": {
      "name": "MotorGrapingExample.ipynb",
      "version": "0.3.2",
      "provenance": []
    },
    "kernelspec": {
      "display_name": "Python RoboteQJupiter ENV",
      "language": "python",
      "name": "envname"
    }
  },
  "cells": [
    {
      "metadata": {
        "id": "WqsV148JoR9K",
        "colab_type": "text"
      },
      "cell_type": "markdown",
      "source": [
        "Welcome to Motor Graphing example:\n",
        "======================\n",
        "\n",
        "This notebook walks through graphing methods for a data log file of a Roboteq Motor Log\n",
        "\n",
        "Please consider running this Notebook on google Colaboratory, which will provide a free hosted runtime for you to run this code\n",
        "\n",
        "[![Open In Colab](https://colab.research.google.com/assets/colab-badge.svg)](https://colab.research.google.com/github/gsisko/RoboteQ-Support-Documents/blob/DataPlotting/Website_Content/JupyterNotebooks/MotorGraphingExample.ipynb)"
      ]
    },
    {
      "metadata": {
        "colab_type": "code",
        "id": "Lbgf3pXkKFM0",
        "colab": {}
      },
      "cell_type": "code",
      "source": [
        "def configure_plotly_browser_state():\n",
        "  import IPython\n",
        "  display(IPython.core.display.HTML('''\n",
        "        <script src=\"/static/components/requirejs/require.js\"></script>\n",
        "        <script>\n",
        "          requirejs.config({\n",
        "            paths: {\n",
        "              base: '/static/base',\n",
        "              plotly: 'https://cdn.plot.ly/plotly-1.5.1.min.js?noext',\n",
        "            },\n",
        "          });\n",
        "        </script>\n",
        "        '''))"
      ],
      "execution_count": 0,
      "outputs": []
    },
    {
      "metadata": {
        "colab_type": "code",
        "id": "LEaPtqj4soim",
        "colab": {}
      },
      "cell_type": "code",
      "source": [
        "ColabRuntime = True\n",
        "\n",
        "import plotly.plotly as py\n",
        "import numpy as np \n",
        "from plotly.offline import init_notebook_mode, iplot\n",
        "from plotly.graph_objs import Contours, Histogram2dContour, Marker, Scatter\n",
        "try:\n",
        "    from google.colab import files\n",
        "except ModuleNotFoundError:\n",
        "    print(\"Consider Running in Colab Using Badge Link\")\n",
        "    from ipywidgets import widgets\n",
        "    ColabRuntime = False\n",
        "\n"
      ],
      "execution_count": 0,
      "outputs": []
    },
    {
      "metadata": {
        "colab_type": "code",
        "id": "PbZkbMEdBe7Q",
        "colab": {}
      },
      "cell_type": "code",
      "source": [
        "fileName = \"\"\n",
        "\n",
        "\n",
        "\n",
        "    \n",
        "\n",
        "#Upload file if we are on google Colab\n",
        "if ColabRuntime:\n",
        "    #upload data file\n",
        "    uploaded = files.upload()\n",
        "\n",
        "    if len(uploaded) == 1:\n",
        "      for fn in uploaded.keys():\n",
        "        print('User uploaded file \"{name}\" with length {length} bytes'.format(\n",
        "            name=fn, length=len(uploaded[fn])))\n",
        "        fileName = fn\n",
        "    else:\n",
        "      print('Please upload only one data file at a time')\n",
        "else: #if we aren't on google colab, we need to ask for a file path\n",
        "  #create our text widget\n",
        "  text = widgets.Text()\n",
        "  label = widgets.Label()\n",
        "  def handle_submit(sender):\n",
        "    fileName = text.value\n",
        "    label.value = fileName\n",
        "  \n",
        "  \n",
        "  \n",
        "  print(\"You are responsible for providing data if running in non CoLab instance\\n\")\n",
        "  print(\"Please provide a path to your Roborun+ log: \")\n",
        "  display(text)\n",
        "  display(widgets.Label(value = \"File Path provided is: \"), label)\n",
        "  text.on_submit(handle_submit)\n",
        "\n",
        "\n",
        "\n",
        "\n",
        "\n",
        "    \n",
        "    \n"
      ],
      "execution_count": 0,
      "outputs": []
    },
    {
      "metadata": {
        "colab_type": "code",
        "id": "0xDAhopdsaql",
        "colab": {}
      },
      "cell_type": "code",
      "source": [
        "#generate data\n",
        "try:\n",
        "    MotorData = np.genfromtxt(fileName, skip_header = 1)\n",
        "    MotorData = MotorData[:, 3:] #skip time frame columns\n",
        "except OSError:\n",
        "    print(\"could not find file, using exampleArray data\")\n",
        "    MotorData = np.array([[1, 2, 3, 4, 5],\n",
        "                         [2, 3, 4, 1, 5],\n",
        "                         [3, 4, 1, 2, 5],\n",
        "                         [4, 1, 2, 3, 5]])\n"
      ],
      "execution_count": 0,
      "outputs": []
    },
    {
      "metadata": {
        "cellView": "code",
        "colab_type": "code",
        "id": "tYINZy18Kksk",
        "colab": {}
      },
      "cell_type": "code",
      "source": [
        "#configure plotly to work in non connected mode\n",
        "configure_plotly_browser_state()\n",
        "init_notebook_mode(connected=False)\n",
        "\n",
        "#plot Data\n",
        "\n",
        "x_axis = np.linspace(0, np.size(MotorData, 0), np.size(MotorData, 0))\n",
        "\n",
        "data = []\n",
        "\n",
        "# Create a trace\n",
        "for i in range(np.size(MotorData, 1)):\n",
        "  data.append( Scatter(\n",
        "      x = x_axis,\n",
        "      y = MotorData[:, i],\n",
        "      mode = 'lines+markers',\n",
        "      name = 'Data series ' + str(i)\n",
        "  ))\n",
        "\n",
        "\n",
        "# Plot and embed in ipython notebook!\n",
        "iplot(data, filename='basic-line')\n",
        "\n",
        "# or plot with: plot_url = py.plot(data, filename='basic-line')"
      ],
      "execution_count": 0,
      "outputs": []
    }
  ]
}